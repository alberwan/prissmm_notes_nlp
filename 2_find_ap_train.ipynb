{
 "cells": [
  {
   "cell_type": "code",
   "execution_count": 1,
   "metadata": {},
   "outputs": [],
   "source": [
    "import os\n",
    "os.environ[\"CUDA_DEVICE_ORDER\"]=\"PCI_BUS_ID\";\n",
    " \n",
    "# The GPU id to use, usually either \"0\" or \"1\";\n",
    "os.environ[\"CUDA_VISIBLE_DEVICES\"]=\"2\";  \n",
    " \n",
    "# Do other imports now...\n",
    "import tensorflow as tf"
   ]
  },
  {
   "cell_type": "code",
   "execution_count": null,
   "metadata": {},
   "outputs": [],
   "source": [
    "# train assessment and plan finder model"
   ]
  },
  {
   "cell_type": "code",
   "execution_count": 2,
   "metadata": {},
   "outputs": [],
   "source": [
    "# import libraries\n",
    "import pandas as pd\n",
    "import numpy as np\n",
    "import dask.dataframe as dd\n",
    "from dask.distributed import Client\n",
    "import seaborn as sns\n",
    "import pickle\n",
    "\n",
    "from tensorflow.keras.preprocessing.text import Tokenizer\n",
    "from tensorflow.keras.preprocessing import sequence\n",
    "from tensorflow.keras.utils import normalize\n",
    "from tensorflow.keras.models import load_model\n",
    "from tensorflow.keras.preprocessing.text import Tokenizer\n",
    "from tensorflow.keras.utils import to_categorical\n",
    "\n",
    "datafolder = '/data/clin_notes_outcomes/prissmm_notes/'"
   ]
  },
  {
   "cell_type": "code",
   "execution_count": 3,
   "metadata": {},
   "outputs": [],
   "source": [
    "# load tokenizer if already trained\n",
    "with open('/homes10/klkehl/prissmm_notes_v2/notes_tokenizer_ap_find.pickle', 'rb') as handle:\n",
    "    tokenizer = pickle.load(handle)\n",
    "    "
   ]
  },
  {
   "cell_type": "code",
   "execution_count": 4,
   "metadata": {},
   "outputs": [],
   "source": [
    "# read datasets\n",
    "training = pd.read_parquet('/data/clin_notes_outcomes/prissmm_notes/training_notes_find_ap.parquet')\n",
    "validation = pd.read_parquet('/data/clin_notes_outcomes/prissmm_notes/validation_notes_find_ap.parquet')\n",
    "test = pd.read_parquet('/data/clin_notes_outcomes/prissmm_notes/test_notes_find_ap.parquet')"
   ]
  },
  {
   "cell_type": "code",
   "execution_count": 5,
   "metadata": {},
   "outputs": [
    {
     "name": "stdout",
     "output_type": "stream",
     "text": [
      "<class 'pandas.core.frame.DataFrame'>\n",
      "Int64Index: 1083879 entries, 0 to 1083878\n",
      "Data columns (total 9 columns):\n",
      "dfci_mrn         1083879 non-null int64\n",
      "date             1083879 non-null datetime64[ns]\n",
      "source           1083879 non-null object\n",
      "department       1031627 non-null object\n",
      "provider_name    1083879 non-null object\n",
      "report_type      1083879 non-null object\n",
      "pre_ap           1083879 non-null object\n",
      "ap               1083879 non-null object\n",
      "Unnamed: 0       1083879 non-null int64\n",
      "dtypes: datetime64[ns](1), int64(2), object(6)\n",
      "memory usage: 82.7+ MB\n"
     ]
    }
   ],
   "source": [
    "training.info()"
   ]
  },
  {
   "cell_type": "code",
   "execution_count": 6,
   "metadata": {},
   "outputs": [
    {
     "name": "stdout",
     "output_type": "stream",
     "text": [
      "<class 'pandas.core.frame.DataFrame'>\n",
      "Int64Index: 1049966 entries, 0 to 1083878\n",
      "Data columns (total 9 columns):\n",
      "dfci_mrn         1049966 non-null int64\n",
      "date             1049966 non-null datetime64[ns]\n",
      "source           1049966 non-null object\n",
      "department       999111 non-null object\n",
      "provider_name    1049966 non-null object\n",
      "report_type      1049966 non-null object\n",
      "pre_ap           1049966 non-null object\n",
      "ap               1049966 non-null object\n",
      "Unnamed: 0       1049966 non-null int64\n",
      "dtypes: datetime64[ns](1), int64(2), object(6)\n",
      "memory usage: 80.1+ MB\n"
     ]
    }
   ],
   "source": [
    "# read in the manually labeled note dataset we will use later; exclude patients from assessment/plan finder model training if they were in the labeled dataset\n",
    "\n",
    "labels = pd.read_csv(datafolder + 'redcap_2g_medonc_2-1-19.csv')[['dfci_mrn','onc_visit_dt2','md_ca2','ca_status_md2']].rename(columns={'onc_visit_dt2':'encounter_date'})\n",
    "training = training[~training.dfci_mrn.isin(labels.dfci_mrn)]\n",
    "training.info()"
   ]
  },
  {
   "cell_type": "code",
   "execution_count": 8,
   "metadata": {},
   "outputs": [
    {
     "name": "stdout",
     "output_type": "stream",
     "text": [
      "<class 'pandas.core.frame.DataFrame'>\n",
      "RangeIndex: 29293 entries, 0 to 29292\n",
      "Data columns (total 10 columns):\n",
      "dfci_mrn                    29293 non-null float64\n",
      "hybrid_death_ind            29293 non-null object\n",
      "hybrid_death_dt             9170 non-null datetime64[ns]\n",
      "patient_id                  29293 non-null int64\n",
      "primary_cancer_diagnosis    29293 non-null object\n",
      "age_at_seq                  29293 non-null category\n",
      "marital_status_nm           29293 non-null object\n",
      "idm_race_nm                 29293 non-null object\n",
      "gender_nm                   29293 non-null object\n",
      "split                       29293 non-null object\n",
      "dtypes: category(1), datetime64[ns](1), float64(1), int64(1), object(6)\n",
      "memory usage: 2.0+ MB\n"
     ]
    }
   ],
   "source": [
    "# table 1 stuff\n",
    "temp_train = training[['dfci_mrn', 'date']]\n",
    "temp_valid = validation[['dfci_mrn', 'date']]\n",
    "temp_test = test[['dfci_mrn','date']]\n",
    "\n",
    "table1_find_ap_notes = pd.concat([temp_train, temp_valid, temp_test], axis=0)\n",
    "\n",
    "\n",
    "temp_folder = '/data/clin_notes_outcomes/clin_trajectory_v3/'\n",
    "registration = pd.read_csv(temp_folder + 'REQ_82268_PT_INFO_STATUS_REGISTRATION.csv', sep='|', encoding='ISO-8859-1', low_memory=False)\n",
    "\n",
    "demographics = pd.read_csv(temp_folder + 'REQ_82268_DEMOGRAPHICS_REGISTRATION.csv', sep='|', encoding='ISO-8859-1', low_memory=False)[['patient_id','marital_status_nm','idm_race_nm']]\n",
    "specimens = pd.read_csv(temp_folder + 'REQ_82268_GENOMIC_SPECIMEN.csv', sep='|', encoding='ISO-8859-1', low_memory=False)[['patient_id', 'test_order_dt', 'primary_cancer_diagnosis']]\n",
    "specimens.test_order_dt = pd.to_datetime(specimens.test_order_dt)\n",
    "\n",
    "registration = registration[~registration.dfci_mrn.isnull()]\n",
    "registration = registration[~registration.patient_id.isnull()]\n",
    "#registration = registration.query(\"~dfci_mrn.isnull() & (~patient_id.isnull())\")\n",
    "\n",
    "registration.patient_id = pd.to_numeric(registration.patient_id)\n",
    "registration.dfci_mrn = pd.to_numeric(registration.dfci_mrn)\n",
    "registration = registration.groupby('dfci_mrn').first().reset_index()\n",
    "registration.dfci_mrn = pd.to_numeric(registration.dfci_mrn)\n",
    "registration.hybrid_death_dt = pd.to_datetime(registration.hybrid_death_dt)\n",
    "registration.birth_dt = pd.to_datetime(registration.birth_dt)\n",
    "\n",
    "registration = pd.merge(registration, demographics, how='inner', on='patient_id')\n",
    "registration = pd.merge(registration, specimens, how='inner', on='patient_id')\n",
    "registration['age_at_seq'] = (registration.test_order_dt - registration.birth_dt)/np.timedelta64(1,'Y')\n",
    "registration['age_at_seq'] = pd.cut(registration.age_at_seq, [0,40, 50, 60, 70, 80, 120])\n",
    "registration['idm_race_nm'] = np.where(registration['idm_race_nm'].str.contains('other|unknown|/', case=False), 'Other/unknown', registration['idm_race_nm'])\n",
    "registration['marital_status_nm'] = np.where(registration['marital_status_nm'].str.contains('married', case=False), 'Married', 'Unmarried/unknown')\n",
    "\n",
    "registration['primary_cancer_diagnosis'] = np.where(registration['primary_cancer_diagnosis'].str.contains('lung', case=False), 'Lung cancer', registration['primary_cancer_diagnosis'])\n",
    "registration['primary_cancer_diagnosis'] = np.where(registration['primary_cancer_diagnosis'].str.contains('panc', case=False), 'Pancreatic cancer', registration['primary_cancer_diagnosis'])\n",
    "registration['primary_cancer_diagnosis'] = np.where(registration['primary_cancer_diagnosis'].str.contains('breast', case=False), 'Breast cancer', registration['primary_cancer_diagnosis'])\n",
    "registration['primary_cancer_diagnosis'] = np.where(registration['primary_cancer_diagnosis'].str.contains('urothelial|bladder', case=False), 'Urothelial cancer', registration['primary_cancer_diagnosis'])\n",
    "registration['primary_cancer_diagnosis'] = np.where(registration['primary_cancer_diagnosis'].str.contains('prostate', case=False), 'Prostate cancer', registration['primary_cancer_diagnosis'])\n",
    "registration['primary_cancer_diagnosis'] = np.where(registration['primary_cancer_diagnosis'].str.contains('colo|rect', case=False), 'Colorectal cancer', registration['primary_cancer_diagnosis'])\n",
    "\n",
    "registration['primary_cancer_diagnosis'] = np.where(~registration['primary_cancer_diagnosis'].str.contains('lung|pancreatic|breast|urothelial|bladder|prostate|colo|rect', case=False), 'Other/unknown', registration['primary_cancer_diagnosis'])\n",
    "\n",
    "\n",
    "# take the first entry for patients who had multiple genomic specimens collected\n",
    "registration = registration.sort_values(by=['dfci_mrn','test_order_dt'])\n",
    "registration = registration.groupby(['dfci_mrn']).first().reset_index()\n",
    "\n",
    "registration = registration[['dfci_mrn','hybrid_death_ind', 'hybrid_death_dt', 'patient_id', 'primary_cancer_diagnosis', 'age_at_seq','marital_status_nm','idm_race_nm', 'gender_nm']]\n",
    "\n",
    "\n",
    "\n",
    "treatments = pd.read_csv(temp_folder+'REQ_82268_TREATMENT_PLAN.csv', sep='|', encoding='ISO-8859-1', low_memory=False)\n",
    "pall_rx = treatments[treatments['tplan_goal'] == 'PALLIATIVE'][['patient_id', 'tplan_start_dt']]\n",
    "pall_rx['pall_start_dt'] = pd.to_datetime(pall_rx.tplan_start_dt)\n",
    "pall_rx = pd.merge(registration, pall_rx, on='patient_id', how='inner')\n",
    "pall_rx = pall_rx.drop(['patient_id', 'tplan_start_dt'], axis=1)\n",
    "pall_rx = pall_rx.sort_values(by=['dfci_mrn'])\n",
    "pall_rx = pall_rx.groupby(['dfci_mrn']).first().reset_index()\n",
    "\n",
    "\n",
    "registration['split'] = np.where(registration.dfci_mrn.isin(temp_train.dfci_mrn), 'train', 'none')\n",
    "registration['split'] = np.where(registration.dfci_mrn.isin(temp_valid.dfci_mrn), 'valid', registration.split)\n",
    "registration['split'] = np.where(registration.dfci_mrn.isin(temp_test.dfci_mrn), 'test', registration.split)\n",
    "\n",
    "registration.info()\n",
    "\n",
    "\n"
   ]
  },
  {
   "cell_type": "code",
   "execution_count": 9,
   "metadata": {},
   "outputs": [
    {
     "name": "stdout",
     "output_type": "stream",
     "text": [
      "\n",
      "split         test   train   valid      All\n",
      "age_at_seq                                 \n",
      "(0, 40]      11715   88295   12598   112608\n",
      "(40, 50]     11998  109756   11995   133749\n",
      "(50, 60]     29573  228938   26050   284561\n",
      "(60, 70]     36972  286819   37293   361084\n",
      "(70, 80]     24352  173501   25774   223627\n",
      "(80, 120]     7377   52763    7614    67754\n",
      "All         121987  940072  121324  1183383 \n",
      "\n",
      " split           test     train     valid       All\n",
      "age_at_seq                                        \n",
      "(0, 40]     0.096035  0.093924  0.103838  0.095158\n",
      "(40, 50]    0.098355  0.116753  0.098867  0.113023\n",
      "(50, 60]    0.242427  0.243532  0.214714  0.240464\n",
      "(60, 70]    0.303081  0.305103  0.307384  0.305129\n",
      "(70, 80]    0.199628  0.184561  0.212439  0.188973\n",
      "(80, 120]   0.060474  0.056127  0.062758  0.057254\n",
      "\n",
      "\n",
      "\n",
      "split                                test   train   valid      All\n",
      "idm_race_nm                                                       \n",
      "American Indian or Alaskan Native      66     719     120      905\n",
      "Asian                                3079   27170    3347    33596\n",
      "Black Or African American            3618   37549    3800    44967\n",
      "Other/unknown                        5957   33859    4179    43995\n",
      "White                              109267  840775  109878  1059920\n",
      "All                                121987  940072  121324  1183383 \n",
      "\n",
      " split                                  test     train     valid       All\n",
      "idm_race_nm                                                              \n",
      "American Indian or Alaskan Native  0.000541  0.000765  0.000989  0.000765\n",
      "Asian                              0.025240  0.028902  0.027587  0.028390\n",
      "Black Or African American          0.029659  0.039943  0.031321  0.037999\n",
      "Other/unknown                      0.048833  0.036017  0.034445  0.037177\n",
      "White                              0.895727  0.894373  0.905658  0.895669\n",
      "\n",
      "\n",
      "\n",
      "split                test   train   valid      All\n",
      "marital_status_nm                                 \n",
      "Married             81673  628254   77560   787487\n",
      "Unmarried/unknown   40314  311818   43764   395896\n",
      "All                121987  940072  121324  1183383 \n",
      "\n",
      " split                  test     train    valid       All\n",
      "marital_status_nm                                       \n",
      "Married            0.669522  0.668304  0.63928  0.665454\n",
      "Unmarried/unknown  0.330478  0.331696  0.36072  0.334546\n",
      "\n",
      "\n",
      "\n",
      "split        test   train   valid      All\n",
      "gender_nm                                 \n",
      "FEMALE      66624  513690   69458   649772\n",
      "MALE        55363  426382   51866   533611\n",
      "All        121987  940072  121324  1183383 \n",
      "\n",
      " split          test     train   valid      All\n",
      "gender_nm                                     \n",
      "FEMALE     0.546157  0.546437  0.5725  0.54908\n",
      "MALE       0.453843  0.453563  0.4275  0.45092\n",
      "\n",
      "\n",
      "\n",
      "split                       test   train   valid      All\n",
      "primary_cancer_diagnosis                                 \n",
      "Breast cancer              10364   88089   10589   109042\n",
      "Colorectal cancer           6405   67529    7761    81695\n",
      "Lung cancer                45060  311411   42399   398870\n",
      "Other/unknown              51850  403868   53467   509185\n",
      "Pancreatic cancer           2529   25211    3184    30924\n",
      "Prostate cancer             2732   21644    1461    25837\n",
      "Urothelial cancer           3047   22320    2463    27830\n",
      "All                       121987  940072  121324  1183383 \n",
      "\n",
      " split                         test     train     valid       All\n",
      "primary_cancer_diagnosis                                        \n",
      "Breast cancer             0.084960  0.093705  0.087279  0.092144\n",
      "Colorectal cancer         0.052506  0.071834  0.063969  0.069035\n",
      "Lung cancer               0.369384  0.331263  0.349469  0.337059\n",
      "Other/unknown             0.425045  0.429614  0.440696  0.430279\n",
      "Pancreatic cancer         0.020732  0.026818  0.026244  0.026132\n",
      "Prostate cancer           0.022396  0.023024  0.012042  0.021833\n",
      "Urothelial cancer         0.024978  0.023743  0.020301  0.023517\n"
     ]
    }
   ],
   "source": [
    "# make table 1 for notes\n",
    "\n",
    "table1_notes = pd.merge(table1_find_ap_notes, registration, on='dfci_mrn')\n",
    "print('')\n",
    "\n",
    "print(pd.crosstab(table1_notes.age_at_seq, table1_notes.split, margins=True), '\\n\\n', pd.crosstab(table1_notes.age_at_seq, table1_notes.split, normalize='columns', margins=True))\n",
    "print('\\n\\n')\n",
    "print(pd.crosstab(table1_notes.idm_race_nm, table1_notes.split, margins=True), '\\n\\n', pd.crosstab(table1_notes.idm_race_nm, table1_notes.split, normalize='columns', margins=True))\n",
    "\n",
    "print('\\n\\n')\n",
    "print(pd.crosstab(table1_notes.marital_status_nm, table1_notes.split, margins=True), '\\n\\n', pd.crosstab(table1_notes.marital_status_nm, table1_notes.split, normalize='columns', margins=True))\n",
    "\n",
    "print('\\n\\n')\n",
    "print(pd.crosstab(table1_notes.gender_nm, table1_notes.split, margins=True), '\\n\\n', pd.crosstab(table1_notes.gender_nm, table1_notes.split, normalize='columns', margins=True))\n",
    "\n",
    "print('\\n\\n')\n",
    "print(pd.crosstab(table1_notes.primary_cancer_diagnosis, table1_notes.split, margins=True), '\\n\\n', pd.crosstab(table1_notes.primary_cancer_diagnosis, table1_notes.split, normalize='columns', margins=True))\n"
   ]
  },
  {
   "cell_type": "code",
   "execution_count": 10,
   "metadata": {},
   "outputs": [
    {
     "name": "stdout",
     "output_type": "stream",
     "text": [
      "\n",
      "split       test  train  valid    All\n",
      "age_at_seq                           \n",
      "(0, 40]      292   2357    277   2926\n",
      "(40, 50]     290   2256    319   2865\n",
      "(50, 60]     623   4820    628   6071\n",
      "(60, 70]     844   6316    800   7960\n",
      "(70, 80]     579   4251    572   5402\n",
      "(80, 120]    187   1339    172   1698\n",
      "All         2815  21339   2768  26922 \n",
      "\n",
      " split           test     train     valid       All\n",
      "age_at_seq                                        \n",
      "(0, 40]     0.103730  0.110455  0.100072  0.108684\n",
      "(40, 50]    0.103020  0.105722  0.115246  0.106419\n",
      "(50, 60]    0.221314  0.225878  0.226879  0.225503\n",
      "(60, 70]    0.299822  0.295984  0.289017  0.295669\n",
      "(70, 80]    0.205684  0.199213  0.206647  0.200654\n",
      "(80, 120]   0.066430  0.062749  0.062139  0.063071\n",
      "\n",
      "\n",
      "\n",
      "split                              test  train  valid    All\n",
      "idm_race_nm                                                 \n",
      "American Indian or Alaskan Native     3     24      2     29\n",
      "Asian                                64    601     77    742\n",
      "Black Or African American            69    705     87    861\n",
      "Other/unknown                       115    782    107   1004\n",
      "White                              2564  19227   2495  24286\n",
      "All                                2815  21339   2768  26922 \n",
      "\n",
      " split                                  test     train     valid       All\n",
      "idm_race_nm                                                              \n",
      "American Indian or Alaskan Native  0.001066  0.001125  0.000723  0.001077\n",
      "Asian                              0.022735  0.028164  0.027818  0.027561\n",
      "Black Or African American          0.024512  0.033038  0.031431  0.031981\n",
      "Other/unknown                      0.040853  0.036647  0.038656  0.037293\n",
      "White                              0.910835  0.901026  0.901373  0.902088\n",
      "\n",
      "\n",
      "\n",
      "split              test  train  valid    All\n",
      "marital_status_nm                           \n",
      "Married            1880  14146   1805  17831\n",
      "Unmarried/unknown   935   7193    963   9091\n",
      "All                2815  21339   2768  26922 \n",
      "\n",
      " split                  test     train     valid       All\n",
      "marital_status_nm                                        \n",
      "Married            0.667851  0.662918  0.652095  0.662321\n",
      "Unmarried/unknown  0.332149  0.337082  0.347905  0.337679\n",
      "\n",
      "\n",
      "\n",
      "split      test  train  valid    All\n",
      "gender_nm                           \n",
      "FEMALE     1451  11203   1510  14164\n",
      "MALE       1364  10136   1258  12758\n",
      "All        2815  21339   2768  26922 \n",
      "\n",
      " split          test     train    valid       All\n",
      "gender_nm                                       \n",
      "FEMALE     0.515453  0.525001  0.54552  0.526112\n",
      "MALE       0.484547  0.474999  0.45448  0.473888\n",
      "\n",
      "\n",
      "\n",
      "split                     test  train  valid    All\n",
      "primary_cancer_diagnosis                           \n",
      "Breast cancer              195   1598    205   1998\n",
      "Colorectal cancer          191   1576    184   1951\n",
      "Lung cancer               1049   7159   1012   9220\n",
      "Other/unknown             1187   9420   1199  11806\n",
      "Pancreatic cancer           62    584     65    711\n",
      "Prostate cancer             66    498     40    604\n",
      "Urothelial cancer           65    504     63    632\n",
      "All                       2815  21339   2768  26922 \n",
      "\n",
      " split                         test     train     valid       All\n",
      "primary_cancer_diagnosis                                        \n",
      "Breast cancer             0.069272  0.074886  0.074061  0.074214\n",
      "Colorectal cancer         0.067851  0.073855  0.066474  0.072469\n",
      "Lung cancer               0.372647  0.335489  0.365607  0.342471\n",
      "Other/unknown             0.421670  0.441445  0.433165  0.438526\n",
      "Pancreatic cancer         0.022025  0.027368  0.023483  0.026410\n",
      "Prostate cancer           0.023446  0.023338  0.014451  0.022435\n",
      "Urothelial cancer         0.023091  0.023619  0.022760  0.023475\n"
     ]
    }
   ],
   "source": [
    "# make table 1 for ap finder patients\n",
    "\n",
    "table1_pts = pd.merge(registration, table1_find_ap_notes, on='dfci_mrn').groupby(['dfci_mrn']).first().reset_index()\n",
    "\n",
    "print('')\n",
    "\n",
    "print(pd.crosstab(table1_pts.age_at_seq, table1_pts.split, margins=True), '\\n\\n', pd.crosstab(table1_pts.age_at_seq, table1_pts.split, normalize='columns', margins=True))\n",
    "print('\\n\\n')\n",
    "print(pd.crosstab(table1_pts.idm_race_nm, table1_pts.split, margins=True), '\\n\\n', pd.crosstab(table1_pts.idm_race_nm, table1_pts.split, normalize='columns', margins=True))\n",
    "\n",
    "print('\\n\\n')\n",
    "print(pd.crosstab(table1_pts.marital_status_nm, table1_pts.split, margins=True), '\\n\\n', pd.crosstab(table1_pts.marital_status_nm, table1_pts.split, normalize='columns', margins=True))\n",
    "\n",
    "print('\\n\\n')\n",
    "print(pd.crosstab(table1_pts.gender_nm, table1_pts.split, margins=True), '\\n\\n', pd.crosstab(table1_pts.gender_nm, table1_pts.split, normalize='columns', margins=True))\n",
    "\n",
    "print('\\n\\n')\n",
    "print(pd.crosstab(table1_pts.primary_cancer_diagnosis, table1_pts.split, margins=True), '\\n\\n', pd.crosstab(table1_pts.primary_cancer_diagnosis, table1_pts.split, normalize='columns', margins=True))\n",
    "\n"
   ]
  },
  {
   "cell_type": "code",
   "execution_count": null,
   "metadata": {},
   "outputs": [],
   "source": []
  },
  {
   "cell_type": "code",
   "execution_count": 11,
   "metadata": {},
   "outputs": [],
   "source": [
    "# max note length = 2000 words\n",
    "max_note_length=2000"
   ]
  },
  {
   "cell_type": "code",
   "execution_count": 12,
   "metadata": {},
   "outputs": [],
   "source": [
    "# taken out for evaluation but should be uncommented for training\n",
    "# train_pre_ap = [np.array(x) for x in tokenizer.texts_to_sequences(training.pre_ap)]\n",
    "# train_y_pre_ap = [np.zeros_like(x) for x in train_pre_ap]\n",
    "# train_ap = [np.array(x) for x in tokenizer.texts_to_sequences(training.ap)]\n",
    "# train_y_ap = [np.ones_like(x) for x in train_ap]\n",
    "# train_x = sequence.pad_sequences([np.concatenate([a,b]) for a,b in zip(train_pre_ap, train_ap)], maxlen=max_note_length)\n",
    "# train_y = sequence.pad_sequences([np.concatenate([a,b]) for a,b in zip(train_y_pre_ap, train_y_ap)], maxlen=max_note_length)"
   ]
  },
  {
   "cell_type": "code",
   "execution_count": null,
   "metadata": {},
   "outputs": [],
   "source": []
  },
  {
   "cell_type": "code",
   "execution_count": 13,
   "metadata": {},
   "outputs": [],
   "source": [
    "valid_pre_ap = [np.array(x) for x in tokenizer.texts_to_sequences(validation.pre_ap)]\n",
    "valid_y_pre_ap = [np.zeros_like(x) for x in valid_pre_ap]\n",
    "valid_ap = [np.array(x) for x in tokenizer.texts_to_sequences(validation.ap)]\n",
    "valid_y_ap = [np.ones_like(x) for x in valid_ap]\n",
    "valid_x = sequence.pad_sequences([np.concatenate([a,b]) for a,b in zip(valid_pre_ap, valid_ap)], max_note_length)\n",
    "valid_y = sequence.pad_sequences([np.concatenate([a,b]) for a,b in zip(valid_y_pre_ap, valid_y_ap)], max_note_length)"
   ]
  },
  {
   "cell_type": "code",
   "execution_count": null,
   "metadata": {},
   "outputs": [],
   "source": []
  },
  {
   "cell_type": "code",
   "execution_count": 14,
   "metadata": {},
   "outputs": [],
   "source": [
    "test_pre_ap = [np.array(x) for x in tokenizer.texts_to_sequences(test.pre_ap)]\n",
    "test_y_pre_ap = [np.zeros_like(x) for x in test_pre_ap]\n",
    "test_ap = [np.array(x) for x in tokenizer.texts_to_sequences(test.ap)]\n",
    "test_y_ap = [np.ones_like(x) for x in test_ap]\n",
    "test_x = sequence.pad_sequences([np.concatenate([a,b]) for a,b in zip(test_pre_ap, test_ap)], max_note_length)\n",
    "test_y = sequence.pad_sequences([np.concatenate([a,b]) for a,b in zip(test_y_pre_ap, test_y_ap)], max_note_length)"
   ]
  },
  {
   "cell_type": "code",
   "execution_count": null,
   "metadata": {},
   "outputs": [],
   "source": []
  },
  {
   "cell_type": "code",
   "execution_count": 16,
   "metadata": {},
   "outputs": [],
   "source": [
    "# ML imports\n",
    "from tensorflow.keras.preprocessing import sequence\n",
    "from tensorflow.keras.models import Sequential, Model\n",
    "from tensorflow.keras.layers import Input, Dense, Dropout, Activation, concatenate\n",
    "from tensorflow.keras.layers import Embedding\n",
    "from tensorflow.keras import initializers, regularizers, constraints, optimizers, layers\n",
    "\n",
    "from tensorflow.keras.layers import Conv1D, GlobalMaxPooling1D, LSTM, TimeDistributed, GRU, Bidirectional, Layer\n",
    "from tensorflow.keras import backend as K\n"
   ]
  },
  {
   "cell_type": "code",
   "execution_count": 19,
   "metadata": {},
   "outputs": [
    {
     "name": "stdout",
     "output_type": "stream",
     "text": [
      "Model: \"sequential\"\n",
      "_________________________________________________________________\n",
      "Layer (type)                 Output Shape              Param #   \n",
      "=================================================================\n",
      "embedding (Embedding)        (None, 2000, 256)         2560000   \n",
      "_________________________________________________________________\n",
      "bidirectional (Bidirectional (None, 2000, 258)         398352    \n",
      "_________________________________________________________________\n",
      "time_distributed (TimeDistri (None, 2000, 1)           259       \n",
      "=================================================================\n",
      "Total params: 2,958,611\n",
      "Trainable params: 2,958,611\n",
      "Non-trainable params: 0\n",
      "_________________________________________________________________\n"
     ]
    }
   ],
   "source": [
    "# set up deep learning model\n",
    "\n",
    "\n",
    "\n",
    "vocab_size = 10000\n",
    "embedding_dims = 256\n",
    "filters = 250\n",
    "kernel_size = 4\n",
    "lstm_dims = 129\n",
    "epochs = 2\n",
    "hidden_dims = 128\n",
    "max_note_length=2000\n",
    "batch_size = 32\n",
    "from tensorflow.keras.layers import Reshape\n",
    "\n",
    "# make model\n",
    "\n",
    "model = Sequential()\n",
    "model.add(Input(shape=(max_note_length,), dtype='float32'))\n",
    "model.add(Embedding(vocab_size, embedding_dims, input_length=max_note_length, mask_zero=False))\n",
    "model.add(Bidirectional(LSTM(lstm_dims, return_sequences=True)))\n",
    "model.add(TimeDistributed(Dense(1, activation='sigmoid')))\n",
    "\n",
    "\n",
    "model.compile(loss='binary_crossentropy', optimizer='adam')\n",
    "model.summary()\n",
    "\n"
   ]
  },
  {
   "cell_type": "code",
   "execution_count": null,
   "metadata": {},
   "outputs": [],
   "source": []
  },
  {
   "cell_type": "code",
   "execution_count": 15,
   "metadata": {},
   "outputs": [
    {
     "name": "stdout",
     "output_type": "stream",
     "text": [
      "Train on 1049966 samples, validate on 134459 samples\n",
      "Epoch 1/2\n",
      "1049952/1049966 [============================>.] - ETA: 0s - loss: 0.0631\n",
      "Epoch 00001: val_loss improved from inf to 0.06155, saving model to ap_model.h5\n",
      "1049966/1049966 [==============================] - 10053s 10ms/sample - loss: 0.0631 - val_loss: 0.0615\n",
      "Epoch 2/2\n",
      "1049952/1049966 [============================>.] - ETA: 0s - loss: 0.0333\n",
      "Epoch 00002: val_loss did not improve from 0.06155\n",
      "1049966/1049966 [==============================] - 10018s 10ms/sample - loss: 0.0333 - val_loss: 0.0619\n"
     ]
    },
    {
     "data": {
      "text/plain": [
       "<tensorflow.python.keras.callbacks.History at 0x7f19e044fa90>"
      ]
     },
     "execution_count": 15,
     "metadata": {},
     "output_type": "execute_result"
    }
   ],
   "source": [
    "# train model. This will be slow on CPU instance. \n",
    "\n",
    "callbacks = [\n",
    "    tf.keras.callbacks.ModelCheckpoint(\n",
    "        filepath='ap_model.h5',\n",
    "        # Path where to save the model\n",
    "        # The two parameters below mean that we will overwrite\n",
    "        # the current checkpoint if and only if\n",
    "        # the `val_loss` score has improved.\n",
    "        save_best_only=True,\n",
    "        save_weights_only=True,\n",
    "        monitor='val_loss',\n",
    "        verbose=1),\n",
    "    tf.keras.callbacks.EarlyStopping(\n",
    "        monitor='val_loss',\n",
    "        min_delta=1e-2,\n",
    "        patience=2,\n",
    "        verbose=1\n",
    "    )\n",
    "]\n",
    "\n",
    "model.fit(train_x, train_y,\n",
    "         validation_data=(valid_x, valid_y),\n",
    "         epochs=2,\n",
    "         batch_size = 32, use_multiprocessing=True, callbacks=callbacks)"
   ]
  },
  {
   "cell_type": "code",
   "execution_count": 20,
   "metadata": {},
   "outputs": [],
   "source": [
    "# save model and test loading\n",
    "model.load_weights('ap_model.h5')"
   ]
  },
  {
   "cell_type": "code",
   "execution_count": 21,
   "metadata": {},
   "outputs": [],
   "source": [
    "# apply model to validation and then test set data to evaluate it\n",
    "valid_predictions = model.predict(valid_x)\n",
    "test_predictions = model.predict(test_x)\n",
    "\n",
    "\n"
   ]
  },
  {
   "cell_type": "code",
   "execution_count": 22,
   "metadata": {},
   "outputs": [],
   "source": [
    "valid_predictions = np.squeeze(valid_predictions, 2)\n",
    "test_predictions = np.squeeze(test_predictions, 2)"
   ]
  },
  {
   "cell_type": "code",
   "execution_count": 23,
   "metadata": {},
   "outputs": [
    {
     "name": "stdout",
     "output_type": "stream",
     "text": [
      "(134459, 2000) (134459, 2000)\n",
      "(135879, 2000) (135879, 2000)\n"
     ]
    }
   ],
   "source": [
    "print(valid_predictions.shape, valid_y.shape)\n",
    "print(test_predictions.shape, test_y.shape)"
   ]
  },
  {
   "cell_type": "code",
   "execution_count": 24,
   "metadata": {},
   "outputs": [],
   "source": [
    "%matplotlib inline"
   ]
  },
  {
   "cell_type": "code",
   "execution_count": 25,
   "metadata": {},
   "outputs": [],
   "source": [
    "# helper functions to plot model metrics\n",
    "# based on https://scikit-learn.org/stable/auto_examples/model_selection/plot_confusion_matrix.html\n",
    "\n",
    "import matplotlib.pyplot as plt\n",
    "def plot_confusion_matrix(cm, classes,\n",
    "                          normalize=False,\n",
    "                          title='Confusion matrix',\n",
    "                          cmap=plt.cm.Blues):\n",
    "    \"\"\"\n",
    "    This function prints and plots the confusion matrix.\n",
    "    Normalization can be applied by setting `normalize=True`.\n",
    "    \"\"\"\n",
    "    import itertools\n",
    "    import numpy as np\n",
    "\n",
    "\n",
    "    from sklearn.metrics import confusion_matrix\n",
    "  \n",
    "    if normalize:\n",
    "        cm = cm.astype('float') / cm.sum(axis=1)[:, np.newaxis]\n",
    "        print(\"Normalized confusion matrix\")\n",
    "    else:\n",
    "        print('Confusion matrix, without normalization')\n",
    "\n",
    "    print(cm)\n",
    "\n",
    "    plt.imshow(cm, interpolation='nearest', cmap=cmap)\n",
    "    plt.title(title)\n",
    "    plt.colorbar()\n",
    "    tick_marks = np.arange(len(classes))\n",
    "    plt.xticks(tick_marks, classes, rotation=45)\n",
    "    plt.yticks(tick_marks, classes)\n",
    "\n",
    "    fmt = '.2f' if normalize else 'd'\n",
    "    thresh = cm.max() / 2.\n",
    "    for i, j in itertools.product(range(cm.shape[0]), range(cm.shape[1])):\n",
    "        plt.text(j, i, format(cm[i, j], fmt),\n",
    "                 horizontalalignment=\"center\",\n",
    "                 color=\"white\" if cm[i, j] > thresh else \"black\")\n",
    "\n",
    "    plt.ylabel('True label')\n",
    "    plt.xlabel('Predicted label')\n",
    "    plt.tight_layout()\n",
    "    plt.grid(False)\n",
    "    plt.show()"
   ]
  },
  {
   "cell_type": "code",
   "execution_count": 26,
   "metadata": {
    "scrolled": true
   },
   "outputs": [],
   "source": [
    "# evaluate model auc\n",
    "\n",
    "# graphing code based in part on https://stackoverflow.com/questions/25009284/how-to-plot-roc-curve-in-python/47562197 and https://scikit-learn.org/stable/auto_examples/model_selection/plot_precision_recall.html\n",
    "\n",
    "\n",
    "def eval_model(predicted, actual):\n",
    "    from sklearn.metrics import roc_auc_score\n",
    "    from sklearn.metrics import f1_score\n",
    "    from sklearn.metrics import classification_report\n",
    "    from sklearn.metrics import precision_recall_curve\n",
    "    from sklearn.metrics import auc\n",
    "    from sklearn.metrics import roc_curve\n",
    "\n",
    "    print(\"AUC \" + str(roc_auc_score(actual, predicted)))\n",
    "\n",
    "    # calculate the fpr and tpr for all thresholds of the classification\n",
    "    fpr, tpr, threshold = roc_curve(actual, predicted)\n",
    "    roc_auc = auc(fpr, tpr)\n",
    "\n",
    "    from sklearn.metrics import average_precision_score\n",
    "    average_precision = average_precision_score(actual, predicted)\n",
    "\n",
    "    print('Average precision score: {0:0.2f}'.format(\n",
    "        average_precision))\n",
    "\n",
    "\n",
    "    # method I: plt\n",
    "    import matplotlib.pyplot as plt\n",
    "    plt.title('Receiver Operating Characteristic: ' )\n",
    "    plt.plot(fpr, tpr, 'b', label = 'AUC = %0.2f' % roc_auc)\n",
    "    plt.legend(loc = 'lower right')\n",
    "    plt.plot([0, 1], [0, 1],'r--')\n",
    "    plt.xlim([0, 1])\n",
    "    plt.ylim([0, 1])\n",
    "    plt.ylabel('True Positive Rate')\n",
    "    plt.xlabel('False Positive Rate')\n",
    "    plt.show()\n",
    "\n",
    "\n",
    "\n",
    "    import matplotlib.pyplot as plt\n",
    "    #from sklearn.utils.fixes import signature\n",
    "\n",
    "    precision, recall, thresholds = precision_recall_curve(actual, predicted)\n",
    "\n",
    "    # In matplotlib < 1.5, plt.fill_between does not have a 'step' argument\n",
    "#     step_kwargs = ({'step': 'post'}\n",
    "#                  if 'step' in signature(plt.fill_between).parameters\n",
    "#                  else {})\n",
    "    \n",
    "    outcome_counts = np.unique(actual, return_counts=True)[1]\n",
    "    prob_outcome = outcome_counts[1] / (outcome_counts[0] + outcome_counts[1])\n",
    "    print('Outcome probability:')\n",
    "    print(prob_outcome)\n",
    "    \n",
    "    plt.plot(recall, precision, color='b')\n",
    "    plt.plot([0,1],[prob_outcome,prob_outcome], 'r--')\n",
    "    plt.step(recall, precision, color='b', alpha=0.2,\n",
    "             where='post')\n",
    "    plt.fill_between(recall, precision, alpha=0.2, color='b')\n",
    "\n",
    "    plt.xlabel('Recall (Sensitivity)')\n",
    "    plt.ylabel('Precision (PPV)')\n",
    "    plt.ylim([0.0, 1.05])\n",
    "    plt.xlim([0.0, 1.0])\n",
    "    plt.title('2-class Precision-Recall curve: AP={0:0.2f}'.format(\n",
    "            average_precision))\n",
    "    plt.show()\n",
    "\n",
    "\n",
    "    # best F1\n",
    "    F1 = 2*((precision*recall)/(precision+recall))\n",
    "    print(\"Best F1 \")\n",
    "    print(max(F1))\n",
    "    \n",
    "    # threshold for best F1\n",
    "    bestF1_thresh = thresholds[np.argmax(F1)]\n",
    "    print(\"Threshold for best F1:\")\n",
    "    print(bestF1_thresh)\n",
    "    pred_outcome_best_f1_thresh = np.where(predicted >= bestF1_thresh,1,0)\n",
    "    print(np.unique(pred_outcome_best_f1_thresh, return_counts=True))\n",
    "    pred_outcome_05_thresh = np.where(predicted >= 0.5,1,0)\n",
    "    \n",
    "    # # predictions\n",
    "    \n",
    "    # # confusion matrix\n",
    "    print(\"Confusion matrix at best F1 thresh:\")\n",
    "    from sklearn.metrics import confusion_matrix\n",
    "    cnf_matrix = confusion_matrix(actual, pred_outcome_best_f1_thresh)\n",
    "    np.set_printoptions(precision=2)\n",
    "    # Plot non-normalized confusion matrix\n",
    "    plt.figure()\n",
    "    plot_confusion_matrix(cnf_matrix, classes=['No','Yes'],\n",
    "                        title='Confusion matrix, without normalization')\n",
    "    print(\"Metrics at best F1 thresh (specificity is recall for negative class):\")\n",
    "    from sklearn.metrics import classification_report\n",
    "    print(classification_report(actual, pred_outcome_best_f1_thresh, target_names=['No','Yes']))\n",
    "\n",
    "\n",
    "    print(\"Confusion matrix at 0.5 thresh:\")\n",
    "    from sklearn.metrics import confusion_matrix\n",
    "    cnf_matrix = confusion_matrix(actual, pred_outcome_05_thresh)\n",
    "    np.set_printoptions(precision=2)\n",
    "    # Plot non-normalized confusion matrix\n",
    "    plt.figure()\n",
    "    plot_confusion_matrix(cnf_matrix, classes=['No','Yes'],\n",
    "                        title='Confusion matrix, without normalization')\n",
    "    print(\"Metrics at 0.5 thresh thresh (specificity is recall for negative class):\")\n",
    "    print(classification_report(actual, pred_outcome_05_thresh, target_names=['No','Yes']))\n",
    "\n",
    "\n",
    "\n",
    "    # Plot normalized confusion matrix\n",
    "    #   plt.figure()\n",
    "    #   plot_confusion_matrix(cnf_matrix, classes=class_names, normalize=True,\n",
    "    #                         title='Normalized confusion matrix')\n",
    "\n",
    "\n",
    "    # # plot threshold vs ppv curve\n",
    "    plt.plot(thresholds, precision[0:len(precision)-1], color='b')\n",
    "    # plt.step(recall, precision, color='b', alpha=0.2,\n",
    "    #          where='post')\n",
    "    # plt.fill_between(recall, precision, alpha=0.2, color='b', **step_kwargs)\n",
    "\n",
    "    plt.xlabel('Threshold probability')\n",
    "    plt.ylabel('Precision (PPV)')\n",
    "    plt.ylim([0.0, 1.0])\n",
    "    plt.xlim([0.0, 1.0])\n",
    "    plt.title('Threshold vs precision')\n",
    "    plt.show()\n",
    "\n",
    "    # histogram\n",
    "    plt.hist(predicted)\n",
    "    plt.title(\"Histogram\")\n",
    "    plt.xlabel(\"Predicted probability\" )\n",
    "    plt.ylabel(\"Frequency\")\n",
    "    plt.show()"
   ]
  },
  {
   "cell_type": "markdown",
   "metadata": {},
   "source": [
    "Evaluate AP finder model on validation and test sets"
   ]
  },
  {
   "cell_type": "code",
   "execution_count": 27,
   "metadata": {},
   "outputs": [
    {
     "name": "stdout",
     "output_type": "stream",
     "text": [
      "AUC 0.9908467200379328\n",
      "Average precision score: 0.94\n"
     ]
    },
    {
     "data": {
      "image/png": "[encoded data removed]",
      "text/plain": [
       "<Figure size 432x288 with 1 Axes>"
      ]
     },
     "metadata": {
      "needs_background": "light"
     },
     "output_type": "display_data"
    },
    {
     "name": "stdout",
     "output_type": "stream",
     "text": [
      "Outcome probability:\n",
      "0.09070890382942012\n"
     ]
    },
    {
     "data": {
      "image/png": "[encoded data removed]",
      "text/plain": [
       "<Figure size 432x288 with 1 Axes>"
      ]
     },
     "metadata": {
      "needs_background": "light"
     },
     "output_type": "display_data"
    },
    {
     "name": "stdout",
     "output_type": "stream",
     "text": [
      "Best F1 \n",
      "0.8872268584408542\n",
      "Threshold for best F1:\n",
      "0.46623743\n",
      "(array([0, 1]), array([246420553,  22497447]))\n",
      "Confusion matrix at best F1 thresh:\n",
      "Confusion matrix, without normalization\n",
      "[[242828642   1696101]\n",
      " [  3591911  20801346]]\n"
     ]
    },
    {
     "data": {
      "image/png": "[encoded data removed]",
      "text/plain": [
       "<Figure size 432x288 with 2 Axes>"
      ]
     },
     "metadata": {
      "needs_background": "light"
     },
     "output_type": "display_data"
    },
    {
     "name": "stdout",
     "output_type": "stream",
     "text": [
      "Metrics at best F1 thresh (specificity is recall for negative class):\n",
      "              precision    recall  f1-score   support\n",
      "\n",
      "          No       0.99      0.99      0.99 244524743\n",
      "         Yes       0.92      0.85      0.89  24393257\n",
      "\n",
      "    accuracy                           0.98 268918000\n",
      "   macro avg       0.96      0.92      0.94 268918000\n",
      "weighted avg       0.98      0.98      0.98 268918000\n",
      "\n",
      "Confusion matrix at 0.5 thresh:\n",
      "Confusion matrix, without normalization\n",
      "[[242968598   1556145]\n",
      " [  3709326  20683931]]\n"
     ]
    },
    {
     "data": {
      "image/png": "[encoded data removed]",
      "text/plain": [
       "<Figure size 432x288 with 2 Axes>"
      ]
     },
     "metadata": {
      "needs_background": "light"
     },
     "output_type": "display_data"
    },
    {
     "name": "stdout",
     "output_type": "stream",
     "text": [
      "Metrics at 0.5 thresh thresh (specificity is recall for negative class):\n",
      "              precision    recall  f1-score   support\n",
      "\n",
      "          No       0.98      0.99      0.99 244524743\n",
      "         Yes       0.93      0.85      0.89  24393257\n",
      "\n",
      "    accuracy                           0.98 268918000\n",
      "   macro avg       0.96      0.92      0.94 268918000\n",
      "weighted avg       0.98      0.98      0.98 268918000\n",
      "\n"
     ]
    },
    {
     "data": {
      "image/png": "[encoded data removed]",
      "text/plain": [
       "<Figure size 432x288 with 1 Axes>"
      ]
     },
     "metadata": {
      "needs_background": "light"
     },
     "output_type": "display_data"
    },
    {
     "data": {
      "image/png": "[encoded data removed]",
      "text/plain": [
       "<Figure size 432x288 with 1 Axes>"
      ]
     },
     "metadata": {
      "needs_background": "light"
     },
     "output_type": "display_data"
    }
   ],
   "source": [
    "eval_model(valid_predictions.flatten(), valid_y.flatten())"
   ]
  },
  {
   "cell_type": "code",
   "execution_count": null,
   "metadata": {},
   "outputs": [
    {
     "name": "stdout",
     "output_type": "stream",
     "text": [
      "AUC 0.9917714565531253\n",
      "Average precision score: 0.95\n"
     ]
    },
    {
     "data": {
      "image/png": "[encoded data removed]",
      "text/plain": [
       "<Figure size 432x288 with 1 Axes>"
      ]
     },
     "metadata": {
      "needs_background": "light"
     },
     "output_type": "display_data"
    },
    {
     "name": "stdout",
     "output_type": "stream",
     "text": [
      "Outcome probability:\n",
      "0.09450100824998713\n"
     ]
    },
    {
     "data": {
      "image/png": "[encoded data removed]",
      "text/plain": [
       "<Figure size 432x288 with 1 Axes>"
      ]
     },
     "metadata": {
      "needs_background": "light"
     },
     "output_type": "display_data"
    },
    {
     "name": "stdout",
     "output_type": "stream",
     "text": [
      "Best F1 \n",
      "0.8965354679101663\n",
      "Threshold for best F1:\n",
      "0.467122\n",
      "(array([0, 1]), array([247735377,  24022623]))\n",
      "Confusion matrix at best F1 thresh:\n",
      "Confusion matrix, without normalization\n",
      "[[244334684   1741911]\n",
      " [  3400693  22280712]]\n"
     ]
    },
    {
     "data": {
      "image/png": "[encoded data removed]",
      "text/plain": [
       "<Figure size 432x288 with 2 Axes>"
      ]
     },
     "metadata": {
      "needs_background": "light"
     },
     "output_type": "display_data"
    },
    {
     "name": "stdout",
     "output_type": "stream",
     "text": [
      "Metrics at best F1 thresh (specificity is recall for negative class):\n",
      "              precision    recall  f1-score   support\n",
      "\n",
      "          No       0.99      0.99      0.99 246076595\n",
      "         Yes       0.93      0.87      0.90  25681405\n",
      "\n",
      "    accuracy                           0.98 271758000\n",
      "   macro avg       0.96      0.93      0.94 271758000\n",
      "weighted avg       0.98      0.98      0.98 271758000\n",
      "\n",
      "Confusion matrix at 0.5 thresh:\n"
     ]
    }
   ],
   "source": [
    "eval_model(test_predictions.flatten(), test_y.flatten())"
   ]
  },
  {
   "cell_type": "code",
   "execution_count": null,
   "metadata": {},
   "outputs": [],
   "source": []
  }
 ],
 "metadata": {
  "kernelspec": {
   "display_name": "Python 3",
   "language": "python",
   "name": "python3"
  },
  "language_info": {
   "codemirror_mode": {
    "name": "ipython",
    "version": 3
   },
   "file_extension": ".py",
   "mimetype": "text/x-python",
   "name": "python",
   "nbconvert_exporter": "python",
   "pygments_lexer": "ipython3",
   "version": "3.6.7"
  }
 },
 "nbformat": 4,
 "nbformat_minor": 4
}
