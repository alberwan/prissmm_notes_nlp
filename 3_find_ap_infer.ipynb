{
 "cells": [
  {
   "cell_type": "code",
   "execution_count": 1,
   "metadata": {},
   "outputs": [],
   "source": [
    "import os\n",
    "os.environ[\"CUDA_DEVICE_ORDER\"]=\"PCI_BUS_ID\";\n",
    " \n",
    "# The GPU id to use, usually either \"0\" or \"1\";\n",
    "os.environ[\"CUDA_VISIBLE_DEVICES\"]=\"2\";  \n",
    " \n",
    "# Do other imports now...\n",
    "import tensorflow as tf"
   ]
  },
  {
   "cell_type": "code",
   "execution_count": 2,
   "metadata": {},
   "outputs": [],
   "source": [
    "# import libraries\n",
    "import pandas as pd\n",
    "import numpy as np\n",
    "import dask.dataframe as dd\n",
    "from dask.distributed import Client\n",
    "import seaborn as sns\n",
    "import pickle\n",
    "\n",
    "from tensorflow.keras.preprocessing.text import Tokenizer\n",
    "from tensorflow.keras.preprocessing import sequence\n",
    "from tensorflow.keras.utils import normalize\n",
    "from tensorflow.keras.models import load_model\n",
    "from tensorflow.keras.preprocessing.text import Tokenizer\n",
    "from tensorflow.keras.utils import to_categorical\n",
    "\n",
    "datafolder = '/data/clin_notes_outcomes/prissmm_notes/'"
   ]
  },
  {
   "cell_type": "code",
   "execution_count": 3,
   "metadata": {},
   "outputs": [],
   "source": [
    "# load tokenizer if already trained\n",
    "with open('/homes10/klkehl/prissmm_notes_v2/notes_tokenizer_ap_find.pickle', 'rb') as handle:\n",
    "    tokenizer = pickle.load(handle)\n",
    "    "
   ]
  },
  {
   "cell_type": "code",
   "execution_count": 4,
   "metadata": {},
   "outputs": [],
   "source": [
    "raw_notes = pd.read_parquet(datafolder+'parsed_82268.parquet')\n"
   ]
  },
  {
   "cell_type": "code",
   "execution_count": null,
   "metadata": {},
   "outputs": [],
   "source": []
  },
  {
   "cell_type": "code",
   "execution_count": 5,
   "metadata": {},
   "outputs": [
    {
     "name": "stdout",
     "output_type": "stream",
     "text": [
      "<class 'pandas.core.frame.DataFrame'>\n",
      "Int64Index: 1354217 entries, 0 to 6526665\n",
      "Data columns (total 7 columns):\n",
      "dfci_mrn         1354217 non-null int64\n",
      "date             1354217 non-null datetime64[ns]\n",
      "text             1354217 non-null object\n",
      "source           1354217 non-null object\n",
      "department       1288191 non-null object\n",
      "provider_name    1354217 non-null object\n",
      "report_type      1354217 non-null object\n",
      "dtypes: datetime64[ns](1), int64(1), object(5)\n",
      "memory usage: 82.7+ MB\n"
     ]
    }
   ],
   "source": [
    "# restrict to progress note-style documents\n",
    "all_notes = raw_notes\n",
    "all_notes = all_notes[all_notes.report_type.isin([\"Progress Note\", \"PROGRESS NOTE\", \"CONSULT\", \"CONSULTATION NOTE\", \"VISIT NOTE\", \"COMPREHENSIVE H&P\"])]\n",
    "all_notes = all_notes[~all_notes.provider_name.isnull()]\n",
    "all_notes.dfci_mrn = pd.to_numeric(all_notes.dfci_mrn)\n",
    "all_notes.text = all_notes.text.str.replace('\\n|\\r', ' ')\n",
    "all_notes.text = all_notes.text.str.lower()\n",
    "\n",
    "all_notes.info()"
   ]
  },
  {
   "cell_type": "code",
   "execution_count": 6,
   "metadata": {},
   "outputs": [],
   "source": [
    "# max note length = 2000 words\n",
    "max_note_length=2000"
   ]
  },
  {
   "cell_type": "code",
   "execution_count": 7,
   "metadata": {},
   "outputs": [
    {
     "name": "stdout",
     "output_type": "stream",
     "text": [
      "<class 'pandas.core.frame.DataFrame'>\n",
      "Int64Index: 1354217 entries, 0 to 6526665\n",
      "Data columns (total 7 columns):\n",
      "dfci_mrn         1354217 non-null int64\n",
      "date             1354217 non-null datetime64[ns]\n",
      "text             1354217 non-null object\n",
      "source           1354217 non-null object\n",
      "department       1288191 non-null object\n",
      "provider_name    1354217 non-null object\n",
      "report_type      1354217 non-null object\n",
      "dtypes: datetime64[ns](1), int64(1), object(5)\n",
      "memory usage: 82.7+ MB\n"
     ]
    }
   ],
   "source": [
    "all_notes.info()"
   ]
  },
  {
   "cell_type": "code",
   "execution_count": null,
   "metadata": {},
   "outputs": [],
   "source": []
  },
  {
   "cell_type": "code",
   "execution_count": null,
   "metadata": {},
   "outputs": [],
   "source": []
  },
  {
   "cell_type": "code",
   "execution_count": 9,
   "metadata": {},
   "outputs": [],
   "source": [
    "# ML imports\n",
    "from tensorflow.keras.preprocessing import sequence\n",
    "from tensorflow.keras.models import Sequential, Model\n",
    "from tensorflow.keras.layers import Input, Dense, Dropout, Activation, concatenate\n",
    "from tensorflow.keras.layers import Embedding\n",
    "from tensorflow.keras import initializers, regularizers, constraints, optimizers, layers\n",
    "\n",
    "from tensorflow.keras.layers import Conv1D, GlobalMaxPooling1D, LSTM, TimeDistributed, GRU, Bidirectional, Layer\n",
    "from tensorflow.keras import backend as K\n"
   ]
  },
  {
   "cell_type": "code",
   "execution_count": 12,
   "metadata": {},
   "outputs": [
    {
     "name": "stdout",
     "output_type": "stream",
     "text": [
      "Model: \"sequential\"\n",
      "_________________________________________________________________\n",
      "Layer (type)                 Output Shape              Param #   \n",
      "=================================================================\n",
      "embedding (Embedding)        (None, 2000, 256)         2560000   \n",
      "_________________________________________________________________\n",
      "bidirectional (Bidirectional (None, 2000, 258)         398352    \n",
      "_________________________________________________________________\n",
      "time_distributed (TimeDistri (None, 2000, 1)           259       \n",
      "=================================================================\n",
      "Total params: 2,958,611\n",
      "Trainable params: 2,958,611\n",
      "Non-trainable params: 0\n",
      "_________________________________________________________________\n"
     ]
    }
   ],
   "source": [
    "# set up assessment and plan model\n",
    "\n",
    "\n",
    "vocab_size = 10000\n",
    "embedding_dims = 256\n",
    "filters = 250\n",
    "kernel_size = 4\n",
    "lstm_dims = 129\n",
    "epochs = 2\n",
    "hidden_dims = 128\n",
    "max_note_length=2000\n",
    "batch_size = 32\n",
    "from tensorflow.keras.layers import Reshape\n",
    "\n",
    "# make model\n",
    "\n",
    "model = Sequential()\n",
    "model.add(Input(shape=(max_note_length,), dtype='float32'))\n",
    "model.add(Embedding(vocab_size, embedding_dims, input_length=max_note_length, mask_zero=False))\n",
    "model.add(Bidirectional(LSTM(lstm_dims, return_sequences=True)))\n",
    "model.add(TimeDistributed(Dense(1, activation='sigmoid')))\n",
    "\n",
    "model.compile(loss='binary_crossentropy', optimizer='adam')\n",
    "model.summary()\n",
    "\n"
   ]
  },
  {
   "cell_type": "code",
   "execution_count": null,
   "metadata": {},
   "outputs": [],
   "source": []
  },
  {
   "cell_type": "code",
   "execution_count": 13,
   "metadata": {},
   "outputs": [],
   "source": [
    "# load AP finder model weights\n",
    "model.load_weights('ap_model.h5')"
   ]
  },
  {
   "cell_type": "code",
   "execution_count": 14,
   "metadata": {},
   "outputs": [],
   "source": [
    "# assessment and plan words will be those words with AP model score > 0.1\n",
    "\n",
    "def get_ap(text):\n",
    "    thetext = sequence.pad_sequences(tokenizer.texts_to_sequences(text), maxlen=max_note_length)\n",
    "    predictions = model.predict(thetext).squeeze(2)\n",
    "    for_plot = predictions.flatten()\n",
    "    import seaborn as sns\n",
    "    sns.distplot(for_plot)\n",
    "    ap_sequences = [np.array(text)[np.array(prediction) > 0.1] for text, prediction in zip(thetext.tolist(), predictions.tolist())]\n",
    "    ap_text = tokenizer.sequences_to_texts(ap_sequences)\n",
    "    return ap_text, ap_sequences"
   ]
  },
  {
   "cell_type": "code",
   "execution_count": null,
   "metadata": {},
   "outputs": [],
   "source": []
  },
  {
   "cell_type": "code",
   "execution_count": 15,
   "metadata": {},
   "outputs": [
    {
     "name": "stdout",
     "output_type": "stream",
     "text": [
      "<class 'pandas.core.frame.DataFrame'>\n",
      "Int64Index: 1354217 entries, 0 to 6526665\n",
      "Data columns (total 7 columns):\n",
      "dfci_mrn         1354217 non-null int64\n",
      "date             1354217 non-null datetime64[ns]\n",
      "text             1354217 non-null object\n",
      "source           1354217 non-null object\n",
      "department       1288191 non-null object\n",
      "provider_name    1354217 non-null object\n",
      "report_type      1354217 non-null object\n",
      "dtypes: datetime64[ns](1), int64(1), object(5)\n",
      "memory usage: 82.7+ MB\n"
     ]
    }
   ],
   "source": [
    "# remove carriage returns and make text lowercase\n",
    "all_notes.text = all_notes.text.str.replace('\\n|\\r', ' ')\n",
    "all_notes.text = all_notes.text.str.lower()\n",
    "all_notes.info()"
   ]
  },
  {
   "cell_type": "code",
   "execution_count": 16,
   "metadata": {},
   "outputs": [
    {
     "name": "stdout",
     "output_type": "stream",
     "text": [
      "<class 'pandas.core.frame.DataFrame'>\n",
      "RangeIndex: 14912 entries, 0 to 14911\n",
      "Data columns (total 5 columns):\n",
      "dfci_mrn       14912 non-null int64\n",
      "date           14912 non-null datetime64[ns]\n",
      "any_cancer     14912 non-null int64\n",
      "response       14912 non-null int64\n",
      "progression    14912 non-null int64\n",
      "dtypes: datetime64[ns](1), int64(4)\n",
      "memory usage: 582.6 KB\n"
     ]
    }
   ],
   "source": [
    "# read manually curated data\n",
    "\n",
    "labels = pd.read_csv(datafolder + 'redcap_2g_medonc_2-1-19.csv')[['dfci_mrn','onc_visit_dt2','md_ca2','ca_status_md2']].rename(columns={'onc_visit_dt2':'encounter_date'})\n",
    "labels = labels[~labels.dfci_mrn.isnull()]\n",
    "labels = labels[~labels.encounter_date.isnull()]\n",
    "labels['any_cancer'] = np.where(labels['md_ca2'].isin([1,11]), 1, 0)\n",
    "\n",
    "\n",
    "labels = labels[~labels.any_cancer.isnull()]\n",
    "\n",
    "labels['response'] = np.where(labels['ca_status_md2']==1, 1, 0)\n",
    "labels['progression'] = np.where(labels['ca_status_md2']==4, 1, 0)\n",
    "labels = labels[['dfci_mrn', 'encounter_date', 'any_cancer', 'response', 'progression']].rename(columns={'encounter_date':'date'})\n",
    "labels.date = pd.to_datetime(labels.date)\n",
    "\n",
    "labels['any_any_cancer'] = labels.groupby(['dfci_mrn','date'])['any_cancer'].transform(lambda x: 1 if any(x==1) else 0)\n",
    "labels['any_response'] = labels.groupby(['dfci_mrn','date'])['response'].transform(lambda x: 1 if any(x==1) else 0)\n",
    "labels['any_progression'] = labels.groupby(['dfci_mrn','date'])['progression'].transform(lambda x: 1 if any(x==1) else 0)\n",
    "\n",
    "labels = labels.groupby(['dfci_mrn','date']).first().reset_index()[['dfci_mrn','date','any_any_cancer','any_response','any_progression']].rename(columns={'any_any_cancer':'any_cancer','any_response':'response','any_progression':'progression'})\n",
    "labels.info()\n",
    "\n"
   ]
  },
  {
   "cell_type": "code",
   "execution_count": 17,
   "metadata": {},
   "outputs": [],
   "source": [
    "all_notes.dfci_mrn = pd.to_numeric(all_notes.dfci_mrn)"
   ]
  },
  {
   "cell_type": "code",
   "execution_count": 18,
   "metadata": {},
   "outputs": [
    {
     "name": "stdout",
     "output_type": "stream",
     "text": [
      "<class 'pandas.core.frame.DataFrame'>\n",
      "Int64Index: 13161 entries, 0 to 13160\n",
      "Data columns (total 10 columns):\n",
      "dfci_mrn         13161 non-null int64\n",
      "date             13161 non-null datetime64[ns]\n",
      "text             13161 non-null object\n",
      "source           13161 non-null object\n",
      "department       12692 non-null object\n",
      "provider_name    13161 non-null object\n",
      "report_type      13161 non-null object\n",
      "any_cancer       13161 non-null int64\n",
      "response         13161 non-null int64\n",
      "progression      13161 non-null int64\n",
      "dtypes: datetime64[ns](1), int64(4), object(5)\n",
      "memory usage: 1.1+ MB\n"
     ]
    }
   ],
   "source": [
    "# pull manually labeled data\n",
    "analysis = pd.merge(all_notes, labels, on=['dfci_mrn', 'date'], how='inner')\n",
    "analysis.info()"
   ]
  },
  {
   "cell_type": "code",
   "execution_count": 20,
   "metadata": {},
   "outputs": [
    {
     "name": "stdout",
     "output_type": "stream",
     "text": [
      "984\n"
     ]
    },
    {
     "data": {
      "text/plain": [
       "8919"
      ]
     },
     "execution_count": 20,
     "metadata": {},
     "output_type": "execute_result"
    }
   ],
   "source": [
    "print(len(analysis.dfci_mrn.unique()))\n",
    "temp = analysis.drop_duplicates(subset=['dfci_mrn','date'])\n",
    "temp.shape[0]"
   ]
  },
  {
   "cell_type": "code",
   "execution_count": 22,
   "metadata": {},
   "outputs": [
    {
     "name": "stdout",
     "output_type": "stream",
     "text": [
      "921\n",
      "7523\n"
     ]
    },
    {
     "data": {
      "image/png": "[encoded data removed]",
      "text/plain": [
       "<Figure size 432x288 with 1 Axes>"
      ]
     },
     "metadata": {
      "needs_background": "light"
     },
     "output_type": "display_data"
    }
   ],
   "source": [
    "# for analysis, we need notes specifically from the lung medical oncologists at DFCI\n",
    "# notes from other medical oncologists (common when patients had multiple primary tumors or heme disorders) and other specialists not relevant here\n",
    "# kept med oncs and nps with more than 10 notes for cohort\n",
    "lung_med_oncs = ['rabin,\\s*mic','marcoux','awad,\\s*mark','gray,\\s*stacy','jackman','oxnard','kwiatkowski','gandhi,\\s*leena','sinclair,\\s*natalie','tahir,\\s*naeem','do,\\s*khanh','rossi,\\s*humberto','barbie,\\s*david','janne,\\s*pasi','johnson,\\s*bruce', 'shapiro,\\s*geoff', 'lathan,\\s*chris', 'kehl', 'hammerman,\\s*peter','jacobson,\\s*jos', 'sands,\\s*jacob', 'cheng,\\s*michael', 'cardarella', 'redig', 'vasconcelles', 'wong,\\s*kwok', 'skarin', 'flanagan', 'rickner', 'calarese', 'mcmullin', 'power', 'silva', 'selleck', 'kulke', 'chan,\\s*jennifer', 'chi,\\s*dorcas', 'nayak', 'gainor', 'hilton', 'freter', 'brown,\\s*jennifer', 'shields', 'kaddis', 'schlossman', 'scranton', 'sequist','azzoli','haddad,\\s*robert','constantine,\\s*michael','wilson,\\s*fred']\n",
    "new_analysis = analysis[analysis.provider_name.str.contains('|'.join(lung_med_oncs), case=False)]\n",
    "new_analysis = new_analysis[new_analysis.provider_name.str.contains('M.D.|N.P.|P.A.')]\n",
    "\n",
    "print(len(new_analysis.dfci_mrn.unique()))\n",
    "temp = new_analysis.drop_duplicates(subset=['dfci_mrn','date'])\n",
    "print(temp.shape[0])\n",
    "\n",
    "missing_from_new = analysis[~analysis.dfci_mrn.isin(new_analysis.dfci_mrn)]\n",
    "\n",
    "analysis = new_analysis\n",
    "analysis['ap'], ap_sequences = get_ap(analysis.text)\n"
   ]
  },
  {
   "cell_type": "code",
   "execution_count": 27,
   "metadata": {},
   "outputs": [
    {
     "name": "stdout",
     "output_type": "stream",
     "text": [
      "<class 'pandas.core.frame.DataFrame'>\n",
      "Int64Index: 7790 entries, 0 to 13160\n",
      "Data columns (total 11 columns):\n",
      "dfci_mrn         7790 non-null int64\n",
      "date             7790 non-null datetime64[ns]\n",
      "text             7790 non-null object\n",
      "source           7790 non-null object\n",
      "department       7499 non-null object\n",
      "provider_name    7790 non-null object\n",
      "report_type      7790 non-null object\n",
      "any_cancer       7790 non-null int64\n",
      "response         7790 non-null int64\n",
      "progression      7790 non-null int64\n",
      "ap               7790 non-null object\n",
      "dtypes: datetime64[ns](1), int64(4), object(6)\n",
      "memory usage: 730.3+ KB\n"
     ]
    }
   ],
   "source": [
    "analysis.info()"
   ]
  },
  {
   "cell_type": "code",
   "execution_count": 28,
   "metadata": {},
   "outputs": [
    {
     "name": "stdout",
     "output_type": "stream",
     "text": [
      "<class 'pandas.core.frame.DataFrame'>\n",
      "Int64Index: 7599 entries, 0 to 13160\n",
      "Data columns (total 11 columns):\n",
      "dfci_mrn         7599 non-null int64\n",
      "date             7599 non-null datetime64[ns]\n",
      "text             7599 non-null object\n",
      "source           7599 non-null object\n",
      "department       7311 non-null object\n",
      "provider_name    7599 non-null object\n",
      "report_type      7599 non-null object\n",
      "any_cancer       7599 non-null int64\n",
      "response         7599 non-null int64\n",
      "progression      7599 non-null int64\n",
      "ap               7599 non-null object\n",
      "dtypes: datetime64[ns](1), int64(4), object(6)\n",
      "memory usage: 712.4+ KB\n"
     ]
    }
   ],
   "source": [
    "# require non-blank AP\n",
    "# (some notes with oncologists' names, like extra phone call notes and clinical trial adverse event forms, legitimately did not have APs)\n",
    "analysis = analysis[analysis.ap != '']\n",
    "analysis.info()"
   ]
  },
  {
   "cell_type": "code",
   "execution_count": 29,
   "metadata": {},
   "outputs": [
    {
     "name": "stdout",
     "output_type": "stream",
     "text": [
      "<class 'pandas.core.frame.DataFrame'>\n",
      "RangeIndex: 7597 entries, 0 to 7596\n",
      "Data columns (total 11 columns):\n",
      "dfci_mrn         7597 non-null int64\n",
      "date             7597 non-null datetime64[ns]\n",
      "text             7597 non-null object\n",
      "source           7597 non-null object\n",
      "department       7311 non-null object\n",
      "provider_name    7597 non-null object\n",
      "report_type      7597 non-null object\n",
      "any_cancer       7597 non-null int64\n",
      "response         7597 non-null int64\n",
      "progression      7597 non-null int64\n",
      "ap               7597 non-null object\n",
      "dtypes: datetime64[ns](1), int64(4), object(6)\n",
      "memory usage: 653.0+ KB\n"
     ]
    }
   ],
   "source": [
    "# make sure only one note per oncologist per day (rarely is there more than one)\n",
    "analysis = analysis.groupby(['dfci_mrn', 'date', 'text']).first().reset_index()\n",
    "analysis.info()"
   ]
  },
  {
   "cell_type": "code",
   "execution_count": 30,
   "metadata": {},
   "outputs": [],
   "source": [
    "# write dataset for classification model training\n",
    "analysis.to_feather(datafolder+'ap_analysis.feather')"
   ]
  },
  {
   "cell_type": "code",
   "execution_count": null,
   "metadata": {},
   "outputs": [],
   "source": []
  },
  {
   "cell_type": "code",
   "execution_count": null,
   "metadata": {},
   "outputs": [],
   "source": []
  }
 ],
 "metadata": {
  "kernelspec": {
   "display_name": "Python 3",
   "language": "python",
   "name": "python3"
  },
  "language_info": {
   "codemirror_mode": {
    "name": "ipython",
    "version": 3
   },
   "file_extension": ".py",
   "mimetype": "text/x-python",
   "name": "python",
   "nbconvert_exporter": "python",
   "pygments_lexer": "ipython3",
   "version": "3.6.7"
  }
 },
 "nbformat": 4,
 "nbformat_minor": 4
}
